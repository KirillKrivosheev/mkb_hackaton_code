{
  "nbformat": 4,
  "nbformat_minor": 0,
  "metadata": {
    "colab": {
      "name": "v1 hackaton-mkb",
      "provenance": [],
      "collapsed_sections": []
    },
    "kernelspec": {
      "display_name": "Python 3",
      "name": "python3"
    }
  },
  "cells": [
    {
      "cell_type": "code",
      "metadata": {
        "id": "LzOaN3itP_-m"
      },
      "source": [
        "#!wget https://github.com/dsbattle/hackathon-mkb/raw/master/train_dataset_hackathon_mkb.csv\n",
        "#!wget https://github.com/dsbattle/hackathon-mkb/raw/master/test_dataset_hackathon_mkb.csv"
      ],
      "execution_count": 1,
      "outputs": []
    },
    {
      "cell_type": "code",
      "metadata": {
        "id": "N03Zp-xdxrMm"
      },
      "source": [
        "#pip install category_encoders"
      ],
      "execution_count": 2,
      "outputs": []
    },
    {
      "cell_type": "code",
      "metadata": {
        "id": "8_i7jCY_PmNU"
      },
      "source": [
        "import numpy as np\n",
        "import pandas as pd\n",
        "from datetime import datetime\n",
        "from datetime import timedelta\n",
        "from sklearn.model_selection import cross_val_score\n",
        "from sklearn.linear_model import LogisticRegression\n",
        "from sklearn.metrics import roc_auc_score\n",
        "from sklearn.metrics import accuracy_score\n",
        "from sklearn.pipeline import Pipeline\n",
        "from sklearn.preprocessing import StandardScaler\n",
        "from sklearn.model_selection import StratifiedKFold\n",
        "from sklearn.model_selection import KFold\n",
        "from sklearn.tree import DecisionTreeClassifier\n",
        "from sklearn.ensemble import RandomForestClassifier\n",
        "from sklearn.ensemble import GradientBoostingClassifier\n",
        "from sklearn.preprocessing import MinMaxScaler\n",
        "import multiprocessing\n",
        "import xgboost as xgb\n",
        "from sklearn.preprocessing import OrdinalEncoder\n",
        "import lightgbm as lgb\n",
        "from lightgbm import plot_importance"
      ],
      "execution_count": 3,
      "outputs": []
    },
    {
      "cell_type": "code",
      "metadata": {
        "id": "7Ua_6LK7PoXJ"
      },
      "source": [
        "initial_train = pd.read_csv('./train_dataset_hackathon_mkb.csv', sep=';', encoding='cp1251')\n",
        "initial_test = pd.read_csv('./test_dataset_hackathon_mkb.csv', sep=';', encoding='cp1251')"
      ],
      "execution_count": 4,
      "outputs": []
    },
    {
      "cell_type": "code",
      "metadata": {
        "id": "Kxg0G4hbPqVA"
      },
      "source": [
        "columns = initial_train.columns.to_list()\n",
        "financial_columns = [col for col in columns if col.startswith(('F1', 'F2'))]\n",
        "discrete_columns = [col for col in columns if ('NUMBER' in col) or ('COUNT' in col) or ('THIRDOROTH' in col) \\\n",
        "                                                                                                            or ('DISQ' in col)]\n",
        "sum_columns = [col for col in columns if 'SUM' in col]\n",
        "numeric_columns = financial_columns + discrete_columns + sum_columns\n",
        "useless_columns = ['id_contract', 'EGRPOINCLUDED', 'TAXREG_REGDATE', 'TAXREGPAY_REGDATE', 'BIRTHDATE', 'AGE']\n",
        "date_columns = ['SIGN_DATE', 'DATEFIRSTREG']\n",
        "target_col = ['TARGET']\n",
        "categorical_few_columns = ['CITIZENSHIP_NAME', 'OKFS_GROUP', 'OKOGU_GROUP', 'OKOPF_GROUP', 'OKTMO_FED', 'SEX_NAME',\n",
        "                                                                                                'OKATO_FED', 'WORKERSRANGE']\n",
        "categorical_many_columns = ['OKATO_REGIONCODE', 'OKTMO_CODE', 'OKVED_CODE']\n",
        "categorical_columns = categorical_few_columns + categorical_many_columns\n",
        "columns = [col for col in columns if col not in useless_columns]\n",
        "train_length = len(initial_train)\n",
        "test_length = len(initial_test)"
      ],
      "execution_count": 5,
      "outputs": []
    },
    {
      "cell_type": "code",
      "source": [
        "train = initial_train\n",
        "test = initial_test\n",
        "df = pd.concat([train, test], ignore_index=True)"
      ],
      "metadata": {
        "id": "am8WTga0FIql"
      },
      "execution_count": 6,
      "outputs": []
    },
    {
      "cell_type": "code",
      "source": [
        "df.drop(columns = useless_columns, inplace = True)\n",
        "for col in date_columns:\n",
        "    df[col] = df[col].apply(lambda date : datetime.strptime(date, '%d%b%Y:%H:%M:%S') if pd.notna(date) else np.nan)\n",
        "df['DATEFIRSTREG'] = df['DATEFIRSTREG'].fillna(datetime(2020, 1, 1, 0, 0, 0))\n",
        "df['day_of_the_year'] = df['SIGN_DATE'].apply(lambda sign_date : sign_date.timetuple().tm_yday)\n",
        "df['days_registred'] = (df['SIGN_DATE'] - df['DATEFIRSTREG']).apply(lambda delta : delta.days)\n",
        "df[numeric_columns] = df[numeric_columns].fillna(0)\n",
        "df['Id'] = df.index\n",
        "df['n_before'] = df[['id_client', 'Id']].groupby(['id_client']).cumcount()\n",
        "df['Year'] = df['SIGN_DATE'].apply(lambda sign_date : sign_date.year)\n",
        "df['Month'] = df['SIGN_DATE'].apply(lambda sign_date : sign_date.month)"
      ],
      "metadata": {
        "id": "obZowGe2FQKw"
      },
      "execution_count": 7,
      "outputs": []
    },
    {
      "cell_type": "code",
      "source": [
        "last_3_days_count = df.groupby('id_client', group_keys=False).apply(lambda group : group.rolling('3D', on = 'SIGN_DATE')['Id'].count())\n",
        "df['last_3_days_count'] = last_3_days_count"
      ],
      "metadata": {
        "id": "Gqu8iU1hL3r2"
      },
      "execution_count": 8,
      "outputs": []
    },
    {
      "cell_type": "code",
      "source": [
        "mean_last_3_days = df.groupby('id_client', group_keys=False).apply(lambda group : group['last_3_days_count'].cumsum().divide(group['n_before'] + 1.0))\n",
        "df['mean_last_3_days'] = mean_last_3_days"
      ],
      "metadata": {
        "id": "_OTkes5GL74i"
      },
      "execution_count": 9,
      "outputs": []
    },
    {
      "cell_type": "code",
      "source": [
        "#s = df.count() < 25221\n",
        "#s[s].index.to_list()"
      ],
      "metadata": {
        "id": "3Ib0P6oKM4ED"
      },
      "execution_count": 10,
      "outputs": []
    },
    {
      "cell_type": "code",
      "source": [
        "ordinal_enc_columns = ['OKFS_GROUP', 'OKOPF_GROUP', 'OKOGU_GROUP', 'SEX_NAME', 'CITIZENSHIP_NAME']\n",
        "no_enc_columns = ['OKATO_REGIONCODE', 'OKATO_FED', 'OKTMO_FED']\n",
        "\n",
        "enc = OrdinalEncoder()\n",
        "df[ordinal_enc_columns] = pd.DataFrame(enc.fit_transform(df[ordinal_enc_columns])).fillna(-1)\n",
        "df[no_enc_columns] = df[no_enc_columns].fillna(-1)"
      ],
      "metadata": {
        "id": "_RsrnBDETN19"
      },
      "execution_count": 11,
      "outputs": []
    },
    {
      "cell_type": "code",
      "source": [
        "df['WORKERSRANGE'] = df['WORKERSRANGE'].map({np.nan : -1, '0 .. 5' : 0, '6 .. 10' : 1, '11 .. 15' : 2, '16 .. 50' : 3, '51 .. 100' : 4,\n",
        "                                '101 .. 150' : 5, '151 .. 200' : 6, '201 .. 250' : 7, '251 .. 500' : 8, '501 .. 1000' : 9, \n",
        "                                                                            '1001 .. 5000' : 10, '5000 и более' : 11})"
      ],
      "metadata": {
        "id": "2JyN-N3zWZgV"
      },
      "execution_count": 12,
      "outputs": []
    },
    {
      "cell_type": "code",
      "source": [
        "df['OKVED_CODE_1'] = df['OKVED_CODE'].apply(lambda code : float(code.split('.')[0]) if pd.notna(code) else -1)"
      ],
      "metadata": {
        "id": "gIRzKKrqZ8uj"
      },
      "execution_count": 13,
      "outputs": []
    },
    {
      "cell_type": "code",
      "source": [
        "df['OKVED_CODE_2'] = df['OKVED_CODE'].apply(lambda code : float(code.split('.')[1]) if (pd.notna(code) and len(code.split('.')) > 1) else -1)"
      ],
      "metadata": {
        "id": "O-1Gfg2hguBa"
      },
      "execution_count": 14,
      "outputs": []
    },
    {
      "cell_type": "code",
      "source": [
        "df['OKVED_CODE_3'] = df['OKVED_CODE'].apply(lambda code : float(code.split('.')[2]) if (pd.notna(code) and len(code.split('.')) > 2) else -1)"
      ],
      "metadata": {
        "id": "03B1ZBpBgwF5"
      },
      "execution_count": 15,
      "outputs": []
    },
    {
      "cell_type": "code",
      "source": [
        "df.drop(columns = ['OKTMO_CODE'], inplace = True)"
      ],
      "metadata": {
        "id": "rqxxqnFJaN0X"
      },
      "execution_count": 16,
      "outputs": []
    },
    {
      "cell_type": "code",
      "source": [
        "df.drop(columns = ['Id', 'id_client', 'SIGN_DATE', 'DATEFIRSTREG', 'OKVED_CODE'], inplace=True)"
      ],
      "metadata": {
        "id": "tYZsj_rzb2Ay"
      },
      "execution_count": 17,
      "outputs": []
    },
    {
      "cell_type": "code",
      "source": [
        "train = df.iloc[:train_length-1]\n",
        "test = df.iloc[train_length:]\n",
        "test = test.drop(columns = ['TARGET'])\n",
        "#df"
      ],
      "metadata": {
        "id": "ov08rdVyMaQx"
      },
      "execution_count": 18,
      "outputs": []
    },
    {
      "cell_type": "code",
      "metadata": {
        "id": "i3uCM_TkQJKr"
      },
      "source": [
        "y = train['TARGET']\n",
        "X = train.drop(columns = ['TARGET'])"
      ],
      "execution_count": 19,
      "outputs": []
    },
    {
      "cell_type": "code",
      "metadata": {
        "id": "3MqD3Z6lN2lD"
      },
      "source": [
        "X_train = X.iloc[:12500, :]\n",
        "X_val = X.iloc[12501:, :]\n",
        "y_train = y.iloc[:12500]\n",
        "y_val = y.iloc[12501:]"
      ],
      "execution_count": 20,
      "outputs": []
    },
    {
      "cell_type": "code",
      "metadata": {
        "id": "4Z19SGBRQOjF"
      },
      "source": [
        "w = {0: 1, 1: 1}\n",
        "\n",
        "#model = RandomForestClassifier(n_estimators=200, min_samples_leaf=5, random_state=0, class_weight=w, n_jobs=multiprocessing.cpu_count())\n",
        "\n",
        "#model = xgb.XGBClassifier(objective=\"binary:logistic\", random_state=42, n_estimators=200, learning_rate=0.2, max_depth=3)\n",
        "\n",
        "model = lgb.LGBMClassifier(n_estimators = 200, learning_rate=0.03, class_weight = w)"
      ],
      "execution_count": 21,
      "outputs": []
    },
    {
      "cell_type": "code",
      "metadata": {
        "id": "QfM2LqbqOdtE",
        "colab": {
          "base_uri": "https://localhost:8080/"
        },
        "outputId": "2db556af-d2a0-4828-e22a-d8977e842aa6"
      },
      "source": [
        "pipe = Pipeline([ ('model', model)])\n",
        "\n",
        "pipe.fit(X_train, y_train)\n",
        "y_score = pipe.predict_proba(X_val)[:, 1]\n",
        "\n",
        "roc_auc_score(y_val, y_score)"
      ],
      "execution_count": 22,
      "outputs": [
        {
          "output_type": "execute_result",
          "data": {
            "text/plain": [
              "0.9606572423408712"
            ]
          },
          "metadata": {},
          "execution_count": 22
        }
      ]
    },
    {
      "cell_type": "code",
      "metadata": {
        "colab": {
          "base_uri": "https://localhost:8080/"
        },
        "id": "5aCZn3h6Pedp",
        "outputId": "53c6fbb7-52fe-42c9-c8b8-bed4e05f2c1e"
      },
      "source": [
        "pipe = Pipeline([('model', model)])\n",
        "\n",
        "pipe.fit(X, y)"
      ],
      "execution_count": 23,
      "outputs": [
        {
          "output_type": "execute_result",
          "data": {
            "text/plain": [
              "Pipeline(steps=[('model',\n",
              "                 LGBMClassifier(class_weight={0: 1, 1: 1}, learning_rate=0.03,\n",
              "                                n_estimators=200))])"
            ]
          },
          "metadata": {},
          "execution_count": 23
        }
      ]
    },
    {
      "cell_type": "code",
      "metadata": {
        "id": "9lVEwO-LZQQo"
      },
      "source": [
        "test_id_contract = initial_test['id_contract']\n",
        "submission = pd.DataFrame()\n",
        "submission['TARGET'] = pipe.predict_proba(test)[:, 1]\n",
        "submission['id_contract'] = test_id_contract"
      ],
      "execution_count": 24,
      "outputs": []
    },
    {
      "cell_type": "code",
      "metadata": {
        "colab": {
          "base_uri": "https://localhost:8080/",
          "height": 206
        },
        "id": "OMyZzqf0ZTSV",
        "outputId": "645bda89-ccad-4699-9f35-2e836d605f9c"
      },
      "source": [
        "submission[['id_contract', 'TARGET']].head()                                            # New"
      ],
      "execution_count": 25,
      "outputs": [
        {
          "output_type": "execute_result",
          "data": {
            "text/html": [
              "\n",
              "  <div id=\"df-0809563a-c88f-41de-ac87-b4b8d3a33119\">\n",
              "    <div class=\"colab-df-container\">\n",
              "      <div>\n",
              "<style scoped>\n",
              "    .dataframe tbody tr th:only-of-type {\n",
              "        vertical-align: middle;\n",
              "    }\n",
              "\n",
              "    .dataframe tbody tr th {\n",
              "        vertical-align: top;\n",
              "    }\n",
              "\n",
              "    .dataframe thead th {\n",
              "        text-align: right;\n",
              "    }\n",
              "</style>\n",
              "<table border=\"1\" class=\"dataframe\">\n",
              "  <thead>\n",
              "    <tr style=\"text-align: right;\">\n",
              "      <th></th>\n",
              "      <th>id_contract</th>\n",
              "      <th>TARGET</th>\n",
              "    </tr>\n",
              "  </thead>\n",
              "  <tbody>\n",
              "    <tr>\n",
              "      <th>0</th>\n",
              "      <td>17892</td>\n",
              "      <td>0.021615</td>\n",
              "    </tr>\n",
              "    <tr>\n",
              "      <th>1</th>\n",
              "      <td>17893</td>\n",
              "      <td>0.070630</td>\n",
              "    </tr>\n",
              "    <tr>\n",
              "      <th>2</th>\n",
              "      <td>17894</td>\n",
              "      <td>0.178853</td>\n",
              "    </tr>\n",
              "    <tr>\n",
              "      <th>3</th>\n",
              "      <td>17895</td>\n",
              "      <td>0.326348</td>\n",
              "    </tr>\n",
              "    <tr>\n",
              "      <th>4</th>\n",
              "      <td>17896</td>\n",
              "      <td>0.861495</td>\n",
              "    </tr>\n",
              "  </tbody>\n",
              "</table>\n",
              "</div>\n",
              "      <button class=\"colab-df-convert\" onclick=\"convertToInteractive('df-0809563a-c88f-41de-ac87-b4b8d3a33119')\"\n",
              "              title=\"Convert this dataframe to an interactive table.\"\n",
              "              style=\"display:none;\">\n",
              "        \n",
              "  <svg xmlns=\"http://www.w3.org/2000/svg\" height=\"24px\"viewBox=\"0 0 24 24\"\n",
              "       width=\"24px\">\n",
              "    <path d=\"M0 0h24v24H0V0z\" fill=\"none\"/>\n",
              "    <path d=\"M18.56 5.44l.94 2.06.94-2.06 2.06-.94-2.06-.94-.94-2.06-.94 2.06-2.06.94zm-11 1L8.5 8.5l.94-2.06 2.06-.94-2.06-.94L8.5 2.5l-.94 2.06-2.06.94zm10 10l.94 2.06.94-2.06 2.06-.94-2.06-.94-.94-2.06-.94 2.06-2.06.94z\"/><path d=\"M17.41 7.96l-1.37-1.37c-.4-.4-.92-.59-1.43-.59-.52 0-1.04.2-1.43.59L10.3 9.45l-7.72 7.72c-.78.78-.78 2.05 0 2.83L4 21.41c.39.39.9.59 1.41.59.51 0 1.02-.2 1.41-.59l7.78-7.78 2.81-2.81c.8-.78.8-2.07 0-2.86zM5.41 20L4 18.59l7.72-7.72 1.47 1.35L5.41 20z\"/>\n",
              "  </svg>\n",
              "      </button>\n",
              "      \n",
              "  <style>\n",
              "    .colab-df-container {\n",
              "      display:flex;\n",
              "      flex-wrap:wrap;\n",
              "      gap: 12px;\n",
              "    }\n",
              "\n",
              "    .colab-df-convert {\n",
              "      background-color: #E8F0FE;\n",
              "      border: none;\n",
              "      border-radius: 50%;\n",
              "      cursor: pointer;\n",
              "      display: none;\n",
              "      fill: #1967D2;\n",
              "      height: 32px;\n",
              "      padding: 0 0 0 0;\n",
              "      width: 32px;\n",
              "    }\n",
              "\n",
              "    .colab-df-convert:hover {\n",
              "      background-color: #E2EBFA;\n",
              "      box-shadow: 0px 1px 2px rgba(60, 64, 67, 0.3), 0px 1px 3px 1px rgba(60, 64, 67, 0.15);\n",
              "      fill: #174EA6;\n",
              "    }\n",
              "\n",
              "    [theme=dark] .colab-df-convert {\n",
              "      background-color: #3B4455;\n",
              "      fill: #D2E3FC;\n",
              "    }\n",
              "\n",
              "    [theme=dark] .colab-df-convert:hover {\n",
              "      background-color: #434B5C;\n",
              "      box-shadow: 0px 1px 3px 1px rgba(0, 0, 0, 0.15);\n",
              "      filter: drop-shadow(0px 1px 2px rgba(0, 0, 0, 0.3));\n",
              "      fill: #FFFFFF;\n",
              "    }\n",
              "  </style>\n",
              "\n",
              "      <script>\n",
              "        const buttonEl =\n",
              "          document.querySelector('#df-0809563a-c88f-41de-ac87-b4b8d3a33119 button.colab-df-convert');\n",
              "        buttonEl.style.display =\n",
              "          google.colab.kernel.accessAllowed ? 'block' : 'none';\n",
              "\n",
              "        async function convertToInteractive(key) {\n",
              "          const element = document.querySelector('#df-0809563a-c88f-41de-ac87-b4b8d3a33119');\n",
              "          const dataTable =\n",
              "            await google.colab.kernel.invokeFunction('convertToInteractive',\n",
              "                                                     [key], {});\n",
              "          if (!dataTable) return;\n",
              "\n",
              "          const docLinkHtml = 'Like what you see? Visit the ' +\n",
              "            '<a target=\"_blank\" href=https://colab.research.google.com/notebooks/data_table.ipynb>data table notebook</a>'\n",
              "            + ' to learn more about interactive tables.';\n",
              "          element.innerHTML = '';\n",
              "          dataTable['output_type'] = 'display_data';\n",
              "          await google.colab.output.renderOutput(dataTable, element);\n",
              "          const docLink = document.createElement('div');\n",
              "          docLink.innerHTML = docLinkHtml;\n",
              "          element.appendChild(docLink);\n",
              "        }\n",
              "      </script>\n",
              "    </div>\n",
              "  </div>\n",
              "  "
            ],
            "text/plain": [
              "   id_contract    TARGET\n",
              "0        17892  0.021615\n",
              "1        17893  0.070630\n",
              "2        17894  0.178853\n",
              "3        17895  0.326348\n",
              "4        17896  0.861495"
            ]
          },
          "metadata": {},
          "execution_count": 25
        }
      ]
    },
    {
      "cell_type": "code",
      "source": [
        "submission[['id_contract', 'TARGET']].head()                                            # New"
      ],
      "metadata": {
        "colab": {
          "base_uri": "https://localhost:8080/",
          "height": 206
        },
        "id": "iBnnjmZufEAw",
        "outputId": "5cd38e6c-3838-42ad-db32-e63bbc34413d"
      },
      "execution_count": 26,
      "outputs": [
        {
          "output_type": "execute_result",
          "data": {
            "text/html": [
              "\n",
              "  <div id=\"df-f6a8ee5e-427d-4a3e-aa06-4a96402beef7\">\n",
              "    <div class=\"colab-df-container\">\n",
              "      <div>\n",
              "<style scoped>\n",
              "    .dataframe tbody tr th:only-of-type {\n",
              "        vertical-align: middle;\n",
              "    }\n",
              "\n",
              "    .dataframe tbody tr th {\n",
              "        vertical-align: top;\n",
              "    }\n",
              "\n",
              "    .dataframe thead th {\n",
              "        text-align: right;\n",
              "    }\n",
              "</style>\n",
              "<table border=\"1\" class=\"dataframe\">\n",
              "  <thead>\n",
              "    <tr style=\"text-align: right;\">\n",
              "      <th></th>\n",
              "      <th>id_contract</th>\n",
              "      <th>TARGET</th>\n",
              "    </tr>\n",
              "  </thead>\n",
              "  <tbody>\n",
              "    <tr>\n",
              "      <th>0</th>\n",
              "      <td>17892</td>\n",
              "      <td>0.021615</td>\n",
              "    </tr>\n",
              "    <tr>\n",
              "      <th>1</th>\n",
              "      <td>17893</td>\n",
              "      <td>0.070630</td>\n",
              "    </tr>\n",
              "    <tr>\n",
              "      <th>2</th>\n",
              "      <td>17894</td>\n",
              "      <td>0.178853</td>\n",
              "    </tr>\n",
              "    <tr>\n",
              "      <th>3</th>\n",
              "      <td>17895</td>\n",
              "      <td>0.326348</td>\n",
              "    </tr>\n",
              "    <tr>\n",
              "      <th>4</th>\n",
              "      <td>17896</td>\n",
              "      <td>0.861495</td>\n",
              "    </tr>\n",
              "  </tbody>\n",
              "</table>\n",
              "</div>\n",
              "      <button class=\"colab-df-convert\" onclick=\"convertToInteractive('df-f6a8ee5e-427d-4a3e-aa06-4a96402beef7')\"\n",
              "              title=\"Convert this dataframe to an interactive table.\"\n",
              "              style=\"display:none;\">\n",
              "        \n",
              "  <svg xmlns=\"http://www.w3.org/2000/svg\" height=\"24px\"viewBox=\"0 0 24 24\"\n",
              "       width=\"24px\">\n",
              "    <path d=\"M0 0h24v24H0V0z\" fill=\"none\"/>\n",
              "    <path d=\"M18.56 5.44l.94 2.06.94-2.06 2.06-.94-2.06-.94-.94-2.06-.94 2.06-2.06.94zm-11 1L8.5 8.5l.94-2.06 2.06-.94-2.06-.94L8.5 2.5l-.94 2.06-2.06.94zm10 10l.94 2.06.94-2.06 2.06-.94-2.06-.94-.94-2.06-.94 2.06-2.06.94z\"/><path d=\"M17.41 7.96l-1.37-1.37c-.4-.4-.92-.59-1.43-.59-.52 0-1.04.2-1.43.59L10.3 9.45l-7.72 7.72c-.78.78-.78 2.05 0 2.83L4 21.41c.39.39.9.59 1.41.59.51 0 1.02-.2 1.41-.59l7.78-7.78 2.81-2.81c.8-.78.8-2.07 0-2.86zM5.41 20L4 18.59l7.72-7.72 1.47 1.35L5.41 20z\"/>\n",
              "  </svg>\n",
              "      </button>\n",
              "      \n",
              "  <style>\n",
              "    .colab-df-container {\n",
              "      display:flex;\n",
              "      flex-wrap:wrap;\n",
              "      gap: 12px;\n",
              "    }\n",
              "\n",
              "    .colab-df-convert {\n",
              "      background-color: #E8F0FE;\n",
              "      border: none;\n",
              "      border-radius: 50%;\n",
              "      cursor: pointer;\n",
              "      display: none;\n",
              "      fill: #1967D2;\n",
              "      height: 32px;\n",
              "      padding: 0 0 0 0;\n",
              "      width: 32px;\n",
              "    }\n",
              "\n",
              "    .colab-df-convert:hover {\n",
              "      background-color: #E2EBFA;\n",
              "      box-shadow: 0px 1px 2px rgba(60, 64, 67, 0.3), 0px 1px 3px 1px rgba(60, 64, 67, 0.15);\n",
              "      fill: #174EA6;\n",
              "    }\n",
              "\n",
              "    [theme=dark] .colab-df-convert {\n",
              "      background-color: #3B4455;\n",
              "      fill: #D2E3FC;\n",
              "    }\n",
              "\n",
              "    [theme=dark] .colab-df-convert:hover {\n",
              "      background-color: #434B5C;\n",
              "      box-shadow: 0px 1px 3px 1px rgba(0, 0, 0, 0.15);\n",
              "      filter: drop-shadow(0px 1px 2px rgba(0, 0, 0, 0.3));\n",
              "      fill: #FFFFFF;\n",
              "    }\n",
              "  </style>\n",
              "\n",
              "      <script>\n",
              "        const buttonEl =\n",
              "          document.querySelector('#df-f6a8ee5e-427d-4a3e-aa06-4a96402beef7 button.colab-df-convert');\n",
              "        buttonEl.style.display =\n",
              "          google.colab.kernel.accessAllowed ? 'block' : 'none';\n",
              "\n",
              "        async function convertToInteractive(key) {\n",
              "          const element = document.querySelector('#df-f6a8ee5e-427d-4a3e-aa06-4a96402beef7');\n",
              "          const dataTable =\n",
              "            await google.colab.kernel.invokeFunction('convertToInteractive',\n",
              "                                                     [key], {});\n",
              "          if (!dataTable) return;\n",
              "\n",
              "          const docLinkHtml = 'Like what you see? Visit the ' +\n",
              "            '<a target=\"_blank\" href=https://colab.research.google.com/notebooks/data_table.ipynb>data table notebook</a>'\n",
              "            + ' to learn more about interactive tables.';\n",
              "          element.innerHTML = '';\n",
              "          dataTable['output_type'] = 'display_data';\n",
              "          await google.colab.output.renderOutput(dataTable, element);\n",
              "          const docLink = document.createElement('div');\n",
              "          docLink.innerHTML = docLinkHtml;\n",
              "          element.appendChild(docLink);\n",
              "        }\n",
              "      </script>\n",
              "    </div>\n",
              "  </div>\n",
              "  "
            ],
            "text/plain": [
              "   id_contract    TARGET\n",
              "0        17892  0.021615\n",
              "1        17893  0.070630\n",
              "2        17894  0.178853\n",
              "3        17895  0.326348\n",
              "4        17896  0.861495"
            ]
          },
          "metadata": {},
          "execution_count": 26
        }
      ]
    },
    {
      "cell_type": "code",
      "metadata": {
        "id": "R9GzacbWbU78"
      },
      "source": [
        "submission[['id_contract', 'TARGET']].to_csv('submit_file_6.csv', sep=';', index=False)   "
      ],
      "execution_count": 27,
      "outputs": []
    },
    {
      "cell_type": "code",
      "source": [
        "plot_importance(pipe['model'], max_num_features=14, figsize = (7, 6))"
      ],
      "metadata": {
        "colab": {
          "base_uri": "https://localhost:8080/",
          "height": 422
        },
        "id": "fd7Ut6X4cxGC",
        "outputId": "3111ce05-c085-442d-ffc7-bff362b5b5bb"
      },
      "execution_count": 28,
      "outputs": [
        {
          "output_type": "execute_result",
          "data": {
            "text/plain": [
              "<matplotlib.axes._subplots.AxesSubplot at 0x7f809304c350>"
            ]
          },
          "metadata": {},
          "execution_count": 28
        },
        {
          "output_type": "display_data",
          "data": {
            "image/png": "[encoded data removed]",
            "text/plain": [
              "<Figure size 504x432 with 1 Axes>"
            ]
          },
          "metadata": {
            "needs_background": "light"
          }
        }
      ]
    },
    {
      "cell_type": "code",
      "source": [
        ""
      ],
      "metadata": {
        "id": "HBbwfKkElJzN"
      },
      "execution_count": null,
      "outputs": []
    }
  ]
}