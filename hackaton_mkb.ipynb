{
  "nbformat": 4,
  "nbformat_minor": 0,
  "metadata": {
    "colab": {
      "name": "hackaton-mkb",
      "provenance": [],
      "collapsed_sections": []
    },
    "kernelspec": {
      "display_name": "Python 3",
      "name": "python3"
    }
  },
  "cells": [
    {
      "cell_type": "code",
      "metadata": {
        "id": "LzOaN3itP_-m"
      },
      "source": [
        "#!wget https://github.com/dsbattle/hackathon-mkb/raw/master/train_dataset_hackathon_mkb.csv\n",
        "#!wget https://github.com/dsbattle/hackathon-mkb/raw/master/test_dataset_hackathon_mkb.csv"
      ],
      "execution_count": 3,
      "outputs": []
    },
    {
      "cell_type": "code",
      "metadata": {
        "id": "N03Zp-xdxrMm"
      },
      "source": [
        "#pip install category_encoders"
      ],
      "execution_count": 4,
      "outputs": []
    },
    {
      "cell_type": "code",
      "metadata": {
        "id": "8_i7jCY_PmNU",
        "colab": {
          "base_uri": "https://localhost:8080/"
        },
        "outputId": "9d548957-b24f-44c5-cdae-4a0433bf38d5"
      },
      "source": [
        "import numpy as np\n",
        "import pandas as pd\n",
        "from category_encoders import TargetEncoder\n",
        "from category_encoders import CountEncoder\n",
        "from datetime import datetime\n",
        "from sklearn.model_selection import cross_val_score\n",
        "from sklearn.linear_model import LogisticRegression\n",
        "from sklearn.metrics import roc_auc_score\n",
        "from sklearn.metrics import accuracy_score\n",
        "from sklearn.pipeline import Pipeline\n",
        "from sklearn.preprocessing import StandardScaler\n",
        "from sklearn.model_selection import StratifiedKFold\n",
        "from sklearn.model_selection import KFold\n",
        "from sklearn.tree import DecisionTreeClassifier\n",
        "from sklearn.ensemble import RandomForestClassifier\n",
        "from sklearn.ensemble import GradientBoostingClassifier\n",
        "from sklearn.preprocessing import MinMaxScaler\n",
        "from collections import defaultdict\n",
        "from collections import deque\n",
        "from sklearn.base import BaseEstimator\n",
        "from sklearn.base import TransformerMixin\n",
        "import multiprocessing\n",
        "import xgboost as xgb\n",
        "from copy import deepcopy"
      ],
      "execution_count": 1,
      "outputs": [
        {
          "output_type": "stream",
          "name": "stderr",
          "text": [
            "/usr/local/lib/python3.7/dist-packages/statsmodels/tools/_testing.py:19: FutureWarning: pandas.util.testing is deprecated. Use the functions in the public API at pandas.testing instead.\n",
            "  import pandas.util.testing as tm\n"
          ]
        }
      ]
    },
    {
      "cell_type": "code",
      "metadata": {
        "id": "7Ua_6LK7PoXJ"
      },
      "source": [
        "initial_train = pd.read_csv('./train_dataset_hackathon_mkb.csv', sep=';', encoding='cp1251')\n",
        "initial_test = pd.read_csv('./test_dataset_hackathon_mkb.csv', sep=';', encoding='cp1251')"
      ],
      "execution_count": 2,
      "outputs": []
    },
    {
      "cell_type": "code",
      "metadata": {
        "id": "Kxg0G4hbPqVA"
      },
      "source": [
        "columns = initial_train.columns.to_list()\n",
        "financial_columns = [col for col in columns if col.startswith(('F1', 'F2'))]\n",
        "discrete_columns = [col for col in columns if ('NUMBER' in col) or ('COUNT' in col) or ('THIRDOROTH' in col) \\\n",
        "                                                                                                            or ('DISQ' in col)]\n",
        "sum_columns = [col for col in columns if 'SUM' in col]\n",
        "numeric_columns = financial_columns + discrete_columns + sum_columns\n",
        "useless_columns = ['id_contract', 'EGRPOINCLUDED', 'TAXREG_REGDATE', 'TAXREGPAY_REGDATE', 'BIRTHDATE', 'AGE']\n",
        "date_columns = ['SIGN_DATE', 'DATEFIRSTREG']\n",
        "target_col = ['TARGET']\n",
        "categorical_few_columns = ['CITIZENSHIP_NAME', 'OKFS_GROUP', 'OKOGU_GROUP', 'OKOPF_GROUP', 'OKTMO_FED', 'SEX_NAME',\n",
        "                                                                                                'OKATO_FED', 'WORKERSRANGE']\n",
        "categorical_many_columns = ['OKATO_REGIONCODE', 'OKTMO_CODE', 'OKVED_CODE']\n",
        "categorical_columns = categorical_few_columns + categorical_many_columns\n",
        "columns = [col for col in columns if col not in useless_columns]\n",
        "train_length = len(initial_train)\n",
        "test_length = len(initial_test)"
      ],
      "execution_count": 3,
      "outputs": []
    },
    {
      "cell_type": "code",
      "metadata": {
        "id": "NG66dLJnQFbg"
      },
      "source": [
        "def preprocess(df):\n",
        "    result = df.drop(columns = useless_columns)\n",
        "\n",
        "    for col in date_columns:\n",
        "        result[col] = [datetime.strptime(date, '%d%b%Y:%H:%M:%S') if not pd.isna(date) \\\n",
        "                                                                                else np.nan for date in list(result[col])]\n",
        "        \n",
        "    result['day_of_the_year'] = [sign_date.timetuple().tm_yday for sign_date in result['SIGN_DATE']]\n",
        "\n",
        "    result['days_registred'] = [(sign_date - reg_date).days for (sign_date, reg_date) in \\\n",
        "                                                                            zip(result['SIGN_DATE'], result['DATEFIRSTREG'])]\n",
        "    \n",
        "    result[numeric_columns] = result[numeric_columns].fillna(0)\n",
        "    \n",
        "    return result"
      ],
      "execution_count": 4,
      "outputs": []
    },
    {
      "cell_type": "code",
      "metadata": {
        "id": "T-9hLMAPQHn8"
      },
      "source": [
        "train = preprocess(initial_train)\n",
        "prep_test = preprocess(initial_test)"
      ],
      "execution_count": 5,
      "outputs": []
    },
    {
      "cell_type": "code",
      "metadata": {
        "id": "i3uCM_TkQJKr"
      },
      "source": [
        "y = train['TARGET']\n",
        "X = train.copy()"
      ],
      "execution_count": 6,
      "outputs": []
    },
    {
      "cell_type": "code",
      "metadata": {
        "id": "Dl8G0WdoQLYV"
      },
      "source": [
        "class CustomTransformer(BaseEstimator, TransformerMixin):\n",
        "    def __init__(self):\n",
        "        self.occur = defaultdict(lambda: 0)\n",
        "        self.sum_last_3_days = defaultdict(lambda: 0)\n",
        "        self.last_dates = defaultdict(deque)\n",
        "        self.target_encoder = None\n",
        "        self.days_registred_mean = None\n",
        "        self.without_dupl = None\n",
        "        self.flag = None\n",
        "    \n",
        "    def fit(self, train, y = None):\n",
        "        self.occur = defaultdict(lambda: 0)\n",
        "        self.sum_last_3_days = defaultdict(lambda: 0)\n",
        "        self.last_dates = defaultdict(deque)\n",
        "        self.flag = 0\n",
        "        train = train.copy()\n",
        "        \n",
        "        train['mean_TARGET'] = \\\n",
        "                      train.groupby('id_client').median().loc[:, ['TARGET']].loc[train['id_client']].reset_index()['TARGET']\n",
        "        \n",
        "        columns = train.columns.to_list()\n",
        "        without_dupl = train.drop_duplicates(subset=[col for col in columns if col not in ['SIGN_DATE', 'TARGET',\n",
        "                                                                            'days_registred', 'day_of_the_year', 'index']], keep='last')\n",
        "        \n",
        "        target_enc_columns = categorical_columns\n",
        "        target_encoder = TargetEncoder(cols = target_enc_columns, handle_missing='value', handle_unknown='value', \n",
        "                                                                                             min_samples_leaf=31, smoothing=15)\n",
        "        target_encoder.fit(X = without_dupl[target_enc_columns], y = np.ceil(without_dupl['mean_TARGET']))\n",
        "        \n",
        "        self.target_encoder = target_encoder\n",
        "        self.days_registred_mean = train['days_registred'].mean()\n",
        "        self.without_dupl = without_dupl\n",
        "        return self\n",
        "\n",
        "        \n",
        "    def transform(self, test, y = None):\n",
        "        test = test.copy()\n",
        "        try:\n",
        "            test = test.drop(columns = ['mean_TARGET'])\n",
        "        except KeyError:\n",
        "            pass\n",
        "        try:\n",
        "            test = test.drop(columns = ['TARGET'])\n",
        "        except KeyError:\n",
        "            pass\n",
        "        if self.flag == 0:\n",
        "            occur = self.occur\n",
        "            sum_last_3_days = self.sum_last_3_days\n",
        "            last_dates = self.last_dates\n",
        "            target_encoder = self.target_encoder\n",
        "        else:\n",
        "            occur = deepcopy(self.occur)\n",
        "            sum_last_3_days =  deepcopy(self.sum_last_3_days) \n",
        "            last_dates = deepcopy(self.last_dates) \n",
        "            target_encoder = self.target_encoder\n",
        "        self.flag = 1\n",
        "        \n",
        "        test_length = len(test)\n",
        "        n_before = []\n",
        "        for i in range(0, test_length):\n",
        "            sample = test.iloc[i, :]\n",
        "            client_id = sample['id_client']\n",
        "            n_before.append(occur[client_id])\n",
        "            occur[client_id] += 1\n",
        "\n",
        "        test['n_before'] = n_before\n",
        "        \n",
        "        mean_last_3_days = []\n",
        "        last_3_days = []\n",
        "        for i in range(0, test_length):\n",
        "            sample = test.iloc[i, :]\n",
        "            client_id = sample['id_client']\n",
        "            date = sample['SIGN_DATE']\n",
        "            last_dates[client_id].append(date)\n",
        "            while (date - last_dates[client_id][0]).days > 2 or (date - last_dates[client_id][0]).days < 0:\n",
        "                last_dates[client_id].popleft()\n",
        "            last_3_days.append(len(last_dates[client_id]))\n",
        "\n",
        "            sum_last_3_days[client_id] += len(last_dates[client_id])\n",
        "            mean_last_3_days.append(sum_last_3_days[client_id] / (n_before[i] + 1))\n",
        "\n",
        "        test['last_3_days'] = last_3_days\n",
        "        test['mean_last_3_days'] = mean_last_3_days\n",
        "        \n",
        "        test['days_registred'] = test['days_registred'].fillna(self.days_registred_mean)\n",
        "        test = test.drop(columns = date_columns)\n",
        "        \n",
        "        target_enc_columns = categorical_columns\n",
        "        new_cols = target_encoder.transform(X = test[target_enc_columns])\n",
        "        dic = {}\n",
        "        for col in new_cols.columns.to_list():\n",
        "            dic['targ_enc_' + col] = new_cols[col]\n",
        "        test = test.assign(**dic)\n",
        "        test = test.drop(columns = target_enc_columns)\n",
        "        test = test.drop(columns = ['id_client'])\n",
        "\n",
        "        return test"
      ],
      "execution_count": 7,
      "outputs": []
    },
    {
      "cell_type": "code",
      "metadata": {
        "id": "3d2X_oBj0_1I"
      },
      "source": [
        "#cust = CustomTransformer()\n",
        "\n",
        "#cust.fit(X)\n",
        "#new = cust.transform(X)"
      ],
      "execution_count": 8,
      "outputs": []
    },
    {
      "cell_type": "code",
      "metadata": {
        "id": "4Ac65hzuAez1"
      },
      "source": [
        "#second = cust.transform(X)\n",
        "#third = cust.transform(X)"
      ],
      "execution_count": 9,
      "outputs": []
    },
    {
      "cell_type": "code",
      "source": [
        "# max(third['n_before'])"
      ],
      "metadata": {
        "id": "q81JAHMPrWhP"
      },
      "execution_count": 10,
      "outputs": []
    },
    {
      "cell_type": "code",
      "metadata": {
        "id": "dghPRbp6DHcK"
      },
      "source": [
        "#s = (third == second).all() == False\n",
        "#s[s].index.to_list()"
      ],
      "execution_count": 11,
      "outputs": []
    },
    {
      "cell_type": "code",
      "metadata": {
        "id": "3MqD3Z6lN2lD"
      },
      "source": [
        "X_train = X.iloc[:12500, :]\n",
        "X_val = X.iloc[12500:, :]\n",
        "y_train = y.iloc[:12500]\n",
        "y_val = y.iloc[12500:]"
      ],
      "execution_count": 8,
      "outputs": []
    },
    {
      "cell_type": "code",
      "metadata": {
        "id": "4Z19SGBRQOjF"
      },
      "source": [
        "w = {0: 1, 1: 1}\n",
        "#logit = GradientBoostingClassifier(n_estimators=50, learning_rate=0.2, max_depth=3, min_samples_leaf=2, random_state=0, tol=1e-4)\n",
        "logit = RandomForestClassifier(n_estimators=200, min_samples_leaf=5, random_state=0, class_weight=w, n_jobs=multiprocessing.cpu_count())\n",
        "#logit = LogisticRegression(penalty='l2', solver='liblinear', C=0.2, class_weight=w, max_iter=10000)\n",
        "\n",
        "#logit = xgb.XGBClassifier(objective=\"binary:logistic\", random_state=42, n_estimators=200, learning_rate=0.2, max_depth=3)"
      ],
      "execution_count": 9,
      "outputs": []
    },
    {
      "cell_type": "code",
      "metadata": {
        "id": "QfM2LqbqOdtE",
        "colab": {
          "base_uri": "https://localhost:8080/"
        },
        "outputId": "d0ffd36f-af7c-4b36-f8f7-417fa848d37b"
      },
      "source": [
        "pipe = Pipeline([('custom', CustomTransformer()), ('scaler', StandardScaler()), ('logit', logit)])\n",
        "\n",
        "pipe.fit(X_train, y_train)\n",
        "y_score = pipe.predict_proba(X_val)[:, 1]\n",
        "\n",
        "roc_auc_score(y_val, y_score)"
      ],
      "execution_count": 10,
      "outputs": [
        {
          "output_type": "execute_result",
          "data": {
            "text/plain": [
              "0.9577973010231075"
            ]
          },
          "metadata": {},
          "execution_count": 10
        }
      ]
    },
    {
      "cell_type": "code",
      "source": [
        "0.9572867905125969  -- Random Forest"
      ],
      "metadata": {
        "id": "6MrxXORwwn_o"
      },
      "execution_count": null,
      "outputs": []
    },
    {
      "cell_type": "code",
      "metadata": {
        "colab": {
          "base_uri": "https://localhost:8080/"
        },
        "id": "5aCZn3h6Pedp",
        "outputId": "0991cfb4-ff88-4f74-d4bf-3511ab451e39"
      },
      "source": [
        "pipe = Pipeline([('custom', CustomTransformer()), ('scaler', StandardScaler()), ('logit', logit)])\n",
        "\n",
        "pipe.fit(X, y)"
      ],
      "execution_count": 11,
      "outputs": [
        {
          "output_type": "execute_result",
          "data": {
            "text/plain": [
              "Pipeline(steps=[('custom', CustomTransformer()), ('scaler', StandardScaler()),\n",
              "                ('logit',\n",
              "                 RandomForestClassifier(class_weight={0: 1, 1: 1},\n",
              "                                        min_samples_leaf=5, n_estimators=200,\n",
              "                                        n_jobs=2, random_state=0))])"
            ]
          },
          "metadata": {},
          "execution_count": 11
        }
      ]
    },
    {
      "cell_type": "code",
      "metadata": {
        "colab": {
          "base_uri": "https://localhost:8080/"
        },
        "id": "GE71NMcuYeHG",
        "outputId": "30e9706c-9a2c-4890-fa5f-85f6381982f0"
      },
      "source": [
        "occ = dict(initial_train['id_client'].value_counts())\n",
        "validate = X[X['id_client'].isin([client_id for client_id in X['id_client'] if occ[client_id] == 1])]\n",
        "\n",
        "y_2 = validate['TARGET']\n",
        "X_2 = validate.drop(columns=['TARGET'])\n",
        "y_score = pipe.predict_proba(X_2)[:, 1]\n",
        "\n",
        "roc_auc_score(y_2, y_score)"
      ],
      "execution_count": 12,
      "outputs": [
        {
          "output_type": "execute_result",
          "data": {
            "text/plain": [
              "0.8463324155957194"
            ]
          },
          "metadata": {},
          "execution_count": 12
        }
      ]
    },
    {
      "cell_type": "code",
      "metadata": {
        "id": "9lVEwO-LZQQo"
      },
      "source": [
        "test_id_contract = initial_test['id_contract']\n",
        "test = prep_test\n",
        "submission = pd.DataFrame()\n",
        "submission['TARGET'] = pipe.predict_proba(test)[:, 1]\n",
        "submission['id_contract'] = test_id_contract"
      ],
      "execution_count": 13,
      "outputs": []
    },
    {
      "cell_type": "code",
      "metadata": {
        "colab": {
          "base_uri": "https://localhost:8080/",
          "height": 206
        },
        "id": "OMyZzqf0ZTSV",
        "outputId": "a403e784-c95d-4dbd-803a-7500bde3931a"
      },
      "source": [
        "submission[['id_contract', 'TARGET']].head()                                            # Random Forest"
      ],
      "execution_count": 14,
      "outputs": [
        {
          "output_type": "execute_result",
          "data": {
            "text/html": [
              "\n",
              "  <div id=\"df-835f58fa-de89-4c2a-99e7-d94a26e180d3\">\n",
              "    <div class=\"colab-df-container\">\n",
              "      <div>\n",
              "<style scoped>\n",
              "    .dataframe tbody tr th:only-of-type {\n",
              "        vertical-align: middle;\n",
              "    }\n",
              "\n",
              "    .dataframe tbody tr th {\n",
              "        vertical-align: top;\n",
              "    }\n",
              "\n",
              "    .dataframe thead th {\n",
              "        text-align: right;\n",
              "    }\n",
              "</style>\n",
              "<table border=\"1\" class=\"dataframe\">\n",
              "  <thead>\n",
              "    <tr style=\"text-align: right;\">\n",
              "      <th></th>\n",
              "      <th>id_contract</th>\n",
              "      <th>TARGET</th>\n",
              "    </tr>\n",
              "  </thead>\n",
              "  <tbody>\n",
              "    <tr>\n",
              "      <th>0</th>\n",
              "      <td>17892</td>\n",
              "      <td>0.026769</td>\n",
              "    </tr>\n",
              "    <tr>\n",
              "      <th>1</th>\n",
              "      <td>17893</td>\n",
              "      <td>0.141849</td>\n",
              "    </tr>\n",
              "    <tr>\n",
              "      <th>2</th>\n",
              "      <td>17894</td>\n",
              "      <td>0.152393</td>\n",
              "    </tr>\n",
              "    <tr>\n",
              "      <th>3</th>\n",
              "      <td>17895</td>\n",
              "      <td>0.260421</td>\n",
              "    </tr>\n",
              "    <tr>\n",
              "      <th>4</th>\n",
              "      <td>17896</td>\n",
              "      <td>0.797953</td>\n",
              "    </tr>\n",
              "  </tbody>\n",
              "</table>\n",
              "</div>\n",
              "      <button class=\"colab-df-convert\" onclick=\"convertToInteractive('df-835f58fa-de89-4c2a-99e7-d94a26e180d3')\"\n",
              "              title=\"Convert this dataframe to an interactive table.\"\n",
              "              style=\"display:none;\">\n",
              "        \n",
              "  <svg xmlns=\"http://www.w3.org/2000/svg\" height=\"24px\"viewBox=\"0 0 24 24\"\n",
              "       width=\"24px\">\n",
              "    <path d=\"M0 0h24v24H0V0z\" fill=\"none\"/>\n",
              "    <path d=\"M18.56 5.44l.94 2.06.94-2.06 2.06-.94-2.06-.94-.94-2.06-.94 2.06-2.06.94zm-11 1L8.5 8.5l.94-2.06 2.06-.94-2.06-.94L8.5 2.5l-.94 2.06-2.06.94zm10 10l.94 2.06.94-2.06 2.06-.94-2.06-.94-.94-2.06-.94 2.06-2.06.94z\"/><path d=\"M17.41 7.96l-1.37-1.37c-.4-.4-.92-.59-1.43-.59-.52 0-1.04.2-1.43.59L10.3 9.45l-7.72 7.72c-.78.78-.78 2.05 0 2.83L4 21.41c.39.39.9.59 1.41.59.51 0 1.02-.2 1.41-.59l7.78-7.78 2.81-2.81c.8-.78.8-2.07 0-2.86zM5.41 20L4 18.59l7.72-7.72 1.47 1.35L5.41 20z\"/>\n",
              "  </svg>\n",
              "      </button>\n",
              "      \n",
              "  <style>\n",
              "    .colab-df-container {\n",
              "      display:flex;\n",
              "      flex-wrap:wrap;\n",
              "      gap: 12px;\n",
              "    }\n",
              "\n",
              "    .colab-df-convert {\n",
              "      background-color: #E8F0FE;\n",
              "      border: none;\n",
              "      border-radius: 50%;\n",
              "      cursor: pointer;\n",
              "      display: none;\n",
              "      fill: #1967D2;\n",
              "      height: 32px;\n",
              "      padding: 0 0 0 0;\n",
              "      width: 32px;\n",
              "    }\n",
              "\n",
              "    .colab-df-convert:hover {\n",
              "      background-color: #E2EBFA;\n",
              "      box-shadow: 0px 1px 2px rgba(60, 64, 67, 0.3), 0px 1px 3px 1px rgba(60, 64, 67, 0.15);\n",
              "      fill: #174EA6;\n",
              "    }\n",
              "\n",
              "    [theme=dark] .colab-df-convert {\n",
              "      background-color: #3B4455;\n",
              "      fill: #D2E3FC;\n",
              "    }\n",
              "\n",
              "    [theme=dark] .colab-df-convert:hover {\n",
              "      background-color: #434B5C;\n",
              "      box-shadow: 0px 1px 3px 1px rgba(0, 0, 0, 0.15);\n",
              "      filter: drop-shadow(0px 1px 2px rgba(0, 0, 0, 0.3));\n",
              "      fill: #FFFFFF;\n",
              "    }\n",
              "  </style>\n",
              "\n",
              "      <script>\n",
              "        const buttonEl =\n",
              "          document.querySelector('#df-835f58fa-de89-4c2a-99e7-d94a26e180d3 button.colab-df-convert');\n",
              "        buttonEl.style.display =\n",
              "          google.colab.kernel.accessAllowed ? 'block' : 'none';\n",
              "\n",
              "        async function convertToInteractive(key) {\n",
              "          const element = document.querySelector('#df-835f58fa-de89-4c2a-99e7-d94a26e180d3');\n",
              "          const dataTable =\n",
              "            await google.colab.kernel.invokeFunction('convertToInteractive',\n",
              "                                                     [key], {});\n",
              "          if (!dataTable) return;\n",
              "\n",
              "          const docLinkHtml = 'Like what you see? Visit the ' +\n",
              "            '<a target=\"_blank\" href=https://colab.research.google.com/notebooks/data_table.ipynb>data table notebook</a>'\n",
              "            + ' to learn more about interactive tables.';\n",
              "          element.innerHTML = '';\n",
              "          dataTable['output_type'] = 'display_data';\n",
              "          await google.colab.output.renderOutput(dataTable, element);\n",
              "          const docLink = document.createElement('div');\n",
              "          docLink.innerHTML = docLinkHtml;\n",
              "          element.appendChild(docLink);\n",
              "        }\n",
              "      </script>\n",
              "    </div>\n",
              "  </div>\n",
              "  "
            ],
            "text/plain": [
              "   id_contract    TARGET\n",
              "0        17892  0.026769\n",
              "1        17893  0.141849\n",
              "2        17894  0.152393\n",
              "3        17895  0.260421\n",
              "4        17896  0.797953"
            ]
          },
          "metadata": {},
          "execution_count": 14
        }
      ]
    },
    {
      "cell_type": "code",
      "metadata": {
        "id": "R9GzacbWbU78"
      },
      "source": [
        "submission[['id_contract', 'TARGET']].to_csv('submit_file_1.csv', sep=';', index=False)   "
      ],
      "execution_count": 15,
      "outputs": []
    }
  ]
}